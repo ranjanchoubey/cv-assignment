{
 "cells": [
  {
   "cell_type": "markdown",
   "metadata": {},
   "source": [
    "# Lucas-Kanade Optical Flow\n",
    "\n",
    " The Lucas-Kanade method estimates the motion between two consecutive frames. It assumes that the motion is small and constant within a neighborhood of each pixel. The optical flow constraint equation is:\n",
    " \n",
    " $$ I_x u + I_y v + I_t = 0 $$\n",
    " \n",
    " where:\n",
    " - $ I_x $ and $ I_y $ are the spatial image gradients.\n",
    " - $ I_t $ is the temporal image gradient.\n",
    " - $ u $ and $ v $ are the optical flow vectors.\n",
    "\n",
    " The method solves this equation for each pixel using a least squares approach over a window of pixels."
   ]
  },
  {
   "cell_type": "markdown",
   "metadata": {},
   "source": [
    "### Step 1: Import Libraries"
   ]
  },
  {
   "cell_type": "code",
   "execution_count": 25,
   "metadata": {},
   "outputs": [],
   "source": [
    "\n",
    "import numpy as np\n",
    "import cv2 as cv\n",
    "import argparse"
   ]
  },
  {
   "cell_type": "markdown",
   "metadata": {},
   "source": [
    "### Step 2: Set Up Argument Parser\n",
    "- The `initialize_video_capture` function initializes video capture from the specified video file. It checks if the video file is opened successfully.\n"
   ]
  },
  {
   "cell_type": "code",
   "execution_count": 26,
   "metadata": {},
   "outputs": [],
   "source": [
    "def initialize_video_capture(video_path):\n",
    "    \"\"\"Initialize video capture from the specified video file.\"\"\"\n",
    "    cap = cv.VideoCapture(video_path)\n",
    "    if not cap.isOpened():\n",
    "        raise ValueError(\"Error opening video file.\")\n",
    "    return cap"
   ]
  },
  {
   "cell_type": "markdown",
   "metadata": {},
   "source": [
    "### Step 3: Set Parameters\n",
    "- The `set_feature_params` function defines parameters for Shi-Tomasi corner detection, which helps in identifying good features to track. The `set_lk_params` function sets parameters for the Lucas-Kanade optical flow algorithm.\n"
   ]
  },
  {
   "cell_type": "code",
   "execution_count": 27,
   "metadata": {},
   "outputs": [],
   "source": [
    "def set_feature_params():\n",
    "    \"\"\"Set parameters for Shi-Tomasi corner detection.\"\"\"\n",
    "    return dict(maxCorners=100,\n",
    "                qualityLevel=0.3,\n",
    "                minDistance=7,\n",
    "                blockSize=7)\n",
    "\n",
    "def set_lk_params():\n",
    "    \"\"\"Set parameters for Lucas-Kanade optical flow.\"\"\"\n",
    "    return dict(winSize=(15, 15),\n",
    "                maxLevel=2,\n",
    "                criteria=(cv.TERM_CRITERIA_EPS | cv.TERM_CRITERIA_COUNT, 10, 0.03))"
   ]
  },
  {
   "cell_type": "markdown",
   "metadata": {},
   "source": [
    "\n",
    "### Step 4: Get Initial Corners\n",
    "- The `get_initial_corners` function detects good features to track in the initial frame using the Shi-Tomasi method. This is crucial for establishing the points that will be tracked throughout the video."
   ]
  },
  {
   "cell_type": "code",
   "execution_count": 28,
   "metadata": {},
   "outputs": [],
   "source": [
    "def get_initial_corners(old_frame, feature_params):\n",
    "    \"\"\"Detect good features to track in the initial frame.\"\"\"\n",
    "    old_gray = cv.cvtColor(old_frame, cv.COLOR_BGR2GRAY)\n",
    "    return cv.goodFeaturesToTrack(old_gray, mask=None, **feature_params)"
   ]
  },
  {
   "cell_type": "markdown",
   "metadata": {},
   "source": [
    "### Step 5: Process Video Frames\n",
    "- The `process_frames` function reads frames from the video, calculates the optical flow using the Lucas-Kanade method, and visualizes the results. It draws the tracks of the detected features on the video frames.\n"
   ]
  },
  {
   "cell_type": "code",
   "execution_count": 34,
   "metadata": {},
   "outputs": [],
   "source": [
    "def process_frames(cap, feature_params, lk_params):\n",
    "    \"\"\"Process video frames to calculate and visualize optical flow.\"\"\"\n",
    "    ret, old_frame = cap.read()\n",
    "    if not ret:\n",
    "        print('Error: Unable to read the first frame.')\n",
    "        return\n",
    "\n",
    "    old_gray = cv.cvtColor(old_frame, cv.COLOR_BGR2GRAY)  # Convert the first frame to grayscale\n",
    "    p0 = get_initial_corners(old_frame, feature_params)\n",
    "\n",
    "    # Create a mask image for drawing purposes\n",
    "    mask = np.zeros_like(old_frame)\n",
    "\n",
    "    while True:\n",
    "        ret, frame = cap.read()\n",
    "        if not ret:\n",
    "            print('No frames grabbed!')\n",
    "            break\n",
    "\n",
    "        frame_gray = cv.cvtColor(frame, cv.COLOR_BGR2GRAY)\n",
    "\n",
    "        # Calculate optical flow\n",
    "        p1, st, err = cv.calcOpticalFlowPyrLK(old_gray, frame_gray, p0, None, **lk_params)\n",
    "\n",
    "        # Select good points\n",
    "        if p1 is not None:\n",
    "            good_new = p1[st == 1]\n",
    "            good_old = p0[st == 1]\n",
    "\n",
    "            # Draw the tracks\n",
    "            for i, (new, old) in enumerate(zip(good_new, good_old)):\n",
    "                a, b = new.ravel()\n",
    "                c, d = old.ravel()\n",
    "                mask = cv.line(mask, (int(a), int(b)), (int(c), int(d)), (0, 255, 0), 2)\n",
    "                frame = cv.circle(frame, (int(a), int(b)), 5, (0, 0, 255), -1)\n",
    "\n",
    "            img = cv.add(frame, mask)\n",
    "            cv.imshow('Optical Flow', img)\n",
    "\n",
    "        # Update the previous frame and previous points\n",
    "        old_gray = frame_gray.copy()\n",
    "        p0 = good_new.reshape(-1, 1, 2)\n",
    "\n",
    "        # Exit on ESC key\n",
    "        if cv.waitKey(30) & 0xFF == 27:\n",
    "            break\n",
    "\n",
    "    cap.release()\n",
    "    cv.destroyAllWindows()"
   ]
  },
  {
   "cell_type": "markdown",
   "metadata": {},
   "source": [
    "### Step 6: Display Results\n",
    "- The processed frames with optical flow visualization are displayed in a window.\n",
    "- NOTE :  exit the loop by pressing the 'ESC' key\n"
   ]
  },
  {
   "cell_type": "code",
   "execution_count": 35,
   "metadata": {},
   "outputs": [],
   "source": [
    "\n",
    "def main(video_path):\n",
    "    \"\"\"Main function to run the Lucas-Kanade Optical Flow calculation.\"\"\"\n",
    "    cap = initialize_video_capture(video_path)\n",
    "    feature_params = set_feature_params()\n",
    "    lk_params = set_lk_params()\n",
    "    process_frames(cap, feature_params, lk_params)\n",
    "\n",
    "# Example usage\n",
    "video_path = 'assets/video.mp4'  # Replace with your video file path\n",
    "main(video_path)"
   ]
  },
  {
   "cell_type": "markdown",
   "metadata": {},
   "source": [
    "End\n",
    "\n",
    "---"
   ]
  }
 ],
 "metadata": {
  "kernelspec": {
   "display_name": "venv",
   "language": "python",
   "name": "python3"
  },
  "language_info": {
   "codemirror_mode": {
    "name": "ipython",
    "version": 3
   },
   "file_extension": ".py",
   "mimetype": "text/x-python",
   "name": "python",
   "nbconvert_exporter": "python",
   "pygments_lexer": "ipython3",
   "version": "3.10.12"
  }
 },
 "nbformat": 4,
 "nbformat_minor": 2
}
